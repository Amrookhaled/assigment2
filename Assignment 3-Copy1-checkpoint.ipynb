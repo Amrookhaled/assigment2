{
 "cells": [
  {
   "cell_type": "markdown",
   "metadata": {},
   "source": [
    "# Assignment 3"
   ]
  },
  {
   "cell_type": "markdown",
   "metadata": {},
   "source": [
    "### Write a function to count the number 4 in a given list."
   ]
  },
  {
   "cell_type": "code",
   "execution_count": null,
   "metadata": {},
   "outputs": [],
   "source": [
    "def count(list1):\n",
    "    y=0\n",
    "    x=len(list1)\n",
    "    for i in range(0,x):\n",
    "        if list1[i]==4:\n",
    "            y+=1\n",
    "    print('The number of 4 is:',y)\n",
    "\n",
    "list1=[0,4,5,4,5,4,6,4,4,7,4,5]\n",
    "count(list1)"
   ]
  },
  {
   "cell_type": "markdown",
   "metadata": {},
   "source": [
    "### write a  function to check whether a number is divisible by another number."
   ]
  },
  {
   "cell_type": "code",
   "execution_count": null,
   "metadata": {},
   "outputs": [],
   "source": [
    "def count(x,y):\n",
    "    if x%y==0:\n",
    "        print(\"true\")\n",
    "    \n",
    "x =int(input('please enter the numbers'))\n",
    "y =int(input('please enter the numbers'))\n",
    "count(x,y)"
   ]
  },
  {
   "cell_type": "markdown",
   "metadata": {},
   "source": [
    "### write a function to find the maximum and minimum numbers from a sequence of numbers."
   ]
  },
  {
   "cell_type": "code",
   "execution_count": null,
   "metadata": {},
   "outputs": [],
   "source": [
    "def funcmin(list):\n",
    "    min=list[0]\n",
    "    for i in list:\n",
    "        if i<min:\n",
    "            min=i\n",
    "    return(min)\n",
    "    \n",
    "def funcmax(list):\n",
    "    max=list[0]\n",
    "    for i in list:\n",
    "        if i>max:\n",
    "            max=i\n",
    "    return(max) \n",
    "list=[1,3,5,9,14,15,20,30,100,-9,0]\n",
    "min=funcmin(list)\n",
    "max=funcmax(list)\n",
    "print(min,max)"
   ]
  },
  {
   "cell_type": "markdown",
   "metadata": {},
   "source": [
    "### Write a Python function that takes two lists and returns True if they have at least one common member."
   ]
  },
  {
   "cell_type": "code",
   "execution_count": null,
   "metadata": {},
   "outputs": [],
   "source": [
    "def count(list1,list2):\n",
    "    for i in list1:\n",
    "        for j in list2:\n",
    "            if i==j:\n",
    "                print(\"true\")\n",
    "                    \n",
    "list1=[1,2,3,4,5]\n",
    "list2 =[0,7,8,1,9]\n",
    "count(list1,list2)"
   ]
  },
  {
   "cell_type": "markdown",
   "metadata": {},
   "source": [
    "### Write a Python function to calculate the factorial of a number (a non-negative integer). The function accepts the number from the user"
   ]
  },
  {
   "cell_type": "code",
   "execution_count": null,
   "metadata": {},
   "outputs": [],
   "source": [
    "def count(x):\n",
    "    if x==1:\n",
    "        return 1\n",
    "    else:\n",
    "        return x*count(x-1) \n",
    "\n",
    "x=int(input(\"please enter the number\"))\n",
    "y=count(x)\n",
    "print(y)"
   ]
  },
  {
   "cell_type": "markdown",
   "metadata": {},
   "source": [
    "### Write a Python function to check whether a number is in a given range.\n",
    "\n",
    "### The range is from 3 to 11\n"
   ]
  },
  {
   "cell_type": "code",
   "execution_count": null,
   "metadata": {},
   "outputs": [],
   "source": [
    "def count(x):\n",
    "    if x>=3 and x<=11:\n",
    "        print(\"true\")\n",
    "        \n",
    "  \n",
    "x=int(input(\"please enter the number\"))\n",
    "count(x)"
   ]
  },
  {
   "cell_type": "markdown",
   "metadata": {},
   "source": [
    "### Write a  program to create the multiplication table (from 1 to 10) of a number."
   ]
  },
  {
   "cell_type": "code",
   "execution_count": null,
   "metadata": {},
   "outputs": [],
   "source": [
    "def  count(x):\n",
    "    for i in range(1,11):\n",
    "        y=x*i\n",
    "        print ( y )\n",
    "x=int(input(\"please enter a number\"))\n",
    "count(x)"
   ]
  },
  {
   "cell_type": "markdown",
   "metadata": {},
   "source": [
    "#### LESSER OF TWO EVENS: Write a function that returns the lesser of two given numbers *if* both numbers are even, but returns the greater if one or both numbers are odd\n",
    "    lesser_of_two_evens(2,4) --> 2\n",
    "    lesser_of_two_evens(2,5) --> 5"
   ]
  },
  {
   "cell_type": "code",
   "execution_count": null,
   "metadata": {},
   "outputs": [],
   "source": [
    "def count (p,s):\n",
    "    if p%2==0 and s%2==0:\n",
    "        if p>s:\n",
    "            print(s)\n",
    "        else:\n",
    "            print(p)\n",
    "    elif p%2==0 and s%2!=0:\n",
    "        print(s)\n",
    "    \n",
    "    elif p%2!=0 and s%2==0:\n",
    "        print(p)\n",
    "    \n",
    "    elif p%2!=0 and s%2!=0:\n",
    "        if p>s:\n",
    "            print(p)\n",
    "        else:\n",
    "            print(s)\n",
    "\n",
    "\n",
    "x=int(input(\"please enter the number \"))\n",
    "y=int(input(\"please enter the number \"))\n",
    "count(x,y)"
   ]
  },
  {
   "cell_type": "markdown",
   "metadata": {},
   "source": [
    "#### ANIMAL CRACKERS: Write a function takes a two-word string and returns True if both words begin with same letter\n",
    "    animal_crackers('Levelheaded Llama') --> True\n",
    "    animal_crackers('Crazy Kangaroo') --> False"
   ]
  },
  {
   "cell_type": "code",
   "execution_count": null,
   "metadata": {},
   "outputs": [],
   "source": [
    "def count(st):\n",
    "    list=[]\n",
    "    x=st.split()\n",
    "    for i in x:\n",
    "        list.append(i[0])\n",
    "    if list[0]==list[1]:\n",
    "        print(\"true\")\n",
    "    \n",
    "    else:\n",
    "        print (\"false\")\n",
    "\n",
    "\n",
    "\n",
    "\n",
    "st=input(\"please enter the words\")\n",
    "count(st)"
   ]
  },
  {
   "cell_type": "markdown",
   "metadata": {},
   "source": [
    "#### MAKES TWENTY: Given two integers, return True if the sum of the integers is 20 *or* if one of the integers is 20. If not, return False\n",
    "\n",
    "    makes_twenty(20,10) --> True\n",
    "    makes_twenty(12,8) --> True\n",
    "    makes_twenty(2,3) --> False"
   ]
  },
  {
   "cell_type": "code",
   "execution_count": null,
   "metadata": {},
   "outputs": [],
   "source": [
    "def count (x,y):\n",
    "    z=x+y\n",
    "    if x>=20 or y>=20 or z>=20:\n",
    "        print(\"true\")\n",
    "    else:\n",
    "        print(\"false\")\n",
    " \n",
    "    \n",
    "\n",
    "x=int(input(\"please enter the number\"))\n",
    "y=int(input(\"please enter the number\"))\n",
    "count(x,y)"
   ]
  },
  {
   "cell_type": "markdown",
   "metadata": {},
   "source": [
    "#### ALMOST THERE: Given an integer n, return True if n is within 10 of either 100 or 200\n",
    "\n",
    "    almost_there(90) --> True\n",
    "    almost_there(104) --> True\n",
    "    almost_there(150) --> False\n",
    "    almost_there(209) --> True\n",
    "    \n",
    "NOTE: `abs(num)` returns the absolute value of a number"
   ]
  },
  {
   "cell_type": "code",
   "execution_count": null,
   "metadata": {},
   "outputs": [],
   "source": [
    "def count(n):\n",
    "    if (n>=90 and n<=110) or (n>=190 and n<=210):\n",
    "        print(\"true\")\n",
    "    else:\n",
    "        print(\"false\")\n",
    "        \n",
    "\n",
    "\n",
    "\n",
    "\n",
    "\n",
    "n=int(input(\"please enter the number \"))\n",
    "count(n)     "
   ]
  },
  {
   "cell_type": "markdown",
   "metadata": {},
   "source": [
    "#### BLACKJACK: Given three integers between 1 and 11, if their sum is less than or equal to 21, return their sum. If their sum exceeds 21 *and* there's an eleven, reduce the total sum by 10. Finally, if the sum  exceeds 21, return 'BUST'\n",
    "    blackjack(5,6,7) --> 18\n",
    "    blackjack(9,9,9) --> 'BUST'\n",
    "    blackjack(9,9,11) --> 19"
   ]
  },
  {
   "cell_type": "code",
   "execution_count": null,
   "metadata": {},
   "outputs": [],
   "source": [
    "def count(x,y,z):\n",
    "    i=x+y+z\n",
    "    if i <=21:\n",
    "        print(i)\n",
    "    else:\n",
    "         if (x==11)or(y==11)or(z==11):\n",
    "             i=i-10\n",
    "             print(i)\n",
    "            \n",
    "         else:\n",
    "             print(\"bust\")\n",
    "\n",
    "x=int(input(\"please enter the number\"))\n",
    "y=int(input(\"please enter the number\"))\n",
    "z=int(input(\"please enter the number\"))\n",
    "count(x,y,z)"
   ]
  },
  {
   "cell_type": "code",
   "execution_count": null,
   "metadata": {},
   "outputs": [],
   "source": [
    "def count(x,y,z):\n",
    "    i=x+y+z\n",
    "    if i <=21:\n",
    "        print(i)\n",
    "    else:\n",
    "         if (x==11)or(y==11)or(z==11):\n",
    "             i=i-10\n",
    "             print(i)\n",
    "            \n",
    "         else:\n",
    "             print(\"bust\")\n",
    "\n",
    "x=int(input(\"please enter the number\"))\n",
    "y=int(input(\"please enter the number\"))\n",
    "z=int(input(\"please enter the number\"))\n",
    "count(x,y,z)"
   ]
  },
  {
   "cell_type": "code",
   "execution_count": null,
   "metadata": {},
   "outputs": [],
   "source": []
  }
 ],
 "metadata": {
  "kernelspec": {
   "display_name": "Python 3 (ipykernel)",
   "language": "python",
   "name": "python3"
  },
  "language_info": {
   "codemirror_mode": {
    "name": "ipython",
    "version": 3
   },
   "file_extension": ".py",
   "mimetype": "text/x-python",
   "name": "python",
   "nbconvert_exporter": "python",
   "pygments_lexer": "ipython3",
   "version": "3.9.12"
  }
 },
 "nbformat": 4,
 "nbformat_minor": 2
}
